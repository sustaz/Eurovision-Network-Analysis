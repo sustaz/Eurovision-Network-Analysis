{
  "cells": [
    {
      "cell_type": "markdown",
      "source": [
        "***In this notebook we preprocess the Eurovision dataset from 1975-2019***"
      ],
      "metadata": {
        "id": "kDGvy-Hx_kA8"
      }
    },
    {
      "cell_type": "code",
      "execution_count": 3,
      "metadata": {
        "id": "kOwEUiE_wyaP"
      },
      "outputs": [],
      "source": [
        "#!pip install openpyxl\n",
        "import pandas as pd\n",
        "df = pd.read_excel('eurovision_song_contest_1975_2019.xlsx')\n",
        "df = df.drop(df[df['(semi-) final'] != 'f'].index)\n",
        "df = df.drop(df[df['Year'] < 2017].index)\n",
        "df = df.drop('Duplicate', axis = 1)\n",
        "df = df.drop('Edition', axis = 1)\n",
        "df = df.drop('(semi-) final', axis = 1)\n",
        "df = df.rename({'Points      ': 'Points'}, axis='columns')\n"
      ]
    },
    {
      "cell_type": "code",
      "execution_count": 4,
      "metadata": {
        "id": "IbNqbb27wyaR"
      },
      "outputs": [],
      "source": [
        "df_2019 = df[df['Year'] == 2019].reset_index()\n",
        "df_2018 = df[df['Year'] == 2018].reset_index()\n",
        "df_2017 = df[df['Year'] == 2017].reset_index()"
      ]
    },
    {
      "cell_type": "code",
      "execution_count": 5,
      "metadata": {
        "id": "zFX79CXywyaV"
      },
      "outputs": [],
      "source": [
        "def sum_total(df):\n",
        "    vocab = {}\n",
        "    for country in df['To country'].unique():\n",
        "        summ = 0\n",
        "        for j in range(0, df.shape[0]):\n",
        "            if df.iloc[j]['To country'] == country:\n",
        "                summ = summ + df.iloc[j].values[5] #points\n",
        "        vocab[country] = summ\n",
        "    return vocab\n",
        "# Extract datas into vocabularies \n",
        "voc_2019 = {k: v for k, v in sorted(sum_total(df_2019).items(),reverse = True, key=lambda item: item[1])}\n",
        "voc_2018 = {k: v for k, v in sorted(sum_total(df_2018).items(),reverse = True, key=lambda item: item[1])}\n",
        "voc_2017 = {k: v for k, v in sorted(sum_total(df_2017).items(),reverse = True, key=lambda item: item[1])}"
      ]
    },
    {
      "cell_type": "code",
      "execution_count": 6,
      "metadata": {
        "id": "IbBJKE7mwyaV"
      },
      "outputs": [],
      "source": [
        "def append_tot(df, voc):\n",
        "    new_l = []\n",
        "    for i in range(0, df.shape[0]):\n",
        "        new_l.append(voc[df.iloc[i]['To country']])\n",
        "    df['Tot'] = new_l\n",
        "    return df\n",
        "# Extract dataframe for each computed vocabulary\n",
        "df_2019 = append_tot(df_2019, voc_2019)\n",
        "df_2018 = append_tot(df_2018, voc_2018)\n",
        "df_2017 = append_tot(df_2017, voc_2017)\n"
      ]
    },
    {
      "cell_type": "code",
      "execution_count": 12,
      "metadata": {
        "id": "uIl1b9AgwyaZ"
      },
      "outputs": [],
      "source": [
        "def merge_j_t(df_year):\n",
        "  df_t = df_year[df_year['Jury or Televoting'] == 'T'].reset_index()\n",
        "  df_t = df_t.drop({'index', 'level_0'}, axis=1)\n",
        "  df_j = df_year[df_year['Jury or Televoting'] == 'J'].reset_index()\n",
        "  df_j = df_j.drop({'index', 'level_0'}, axis=1)\n",
        "  df_final = df_t.copy()\n",
        "  for i in range(0, df_t.shape[0]):\n",
        "    df_final.at[i,'Points']= df_t.iloc[i][4] + df_j.iloc[i][4]\n",
        "  return df_final\n",
        "df_final_2017 = merge_j_t(df_2017)\n",
        "df_final_2018 = merge_j_t(df_2018)\n",
        "df_final_2019 = merge_j_t(df_2019)\n",
        "\n",
        "df_final_2017 = df_final_2017.drop(columns=['Jury or Televoting','Year'],axis=1).head()\n",
        "df_final_2018 = df_final_2018.drop(columns=['Jury or Televoting','Year'],axis=1).head()\n",
        "df_final_2019 = df_final_2019.drop(columns=['Jury or Televoting','Year'],axis=1).head()"
      ]
    },
    {
      "cell_type": "markdown",
      "source": [
        "***Now the dataframes are in the same 'melted' form of the other notebook***"
      ],
      "metadata": {
        "id": "hjdOFPBwABgv"
      }
    }
  ],
  "metadata": {
    "colab": {
      "collapsed_sections": [],
      "name": "Cleaning Eurovision.ipynb",
      "provenance": []
    },
    "kernelspec": {
      "display_name": "Python 3 (ipykernel)",
      "language": "python",
      "name": "python3"
    },
    "language_info": {
      "codemirror_mode": {
        "name": "ipython",
        "version": 3
      },
      "file_extension": ".py",
      "mimetype": "text/x-python",
      "name": "python",
      "nbconvert_exporter": "python",
      "pygments_lexer": "ipython3",
      "version": "3.9.7"
    }
  },
  "nbformat": 4,
  "nbformat_minor": 0
}